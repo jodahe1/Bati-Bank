{
 "cells": [
  {
   "cell_type": "code",
   "execution_count": 1,
   "metadata": {},
   "outputs": [],
   "source": [
    "import pandas as pd"
   ]
  },
  {
   "cell_type": "code",
   "execution_count": 2,
   "metadata": {},
   "outputs": [],
   "source": [
    "# Load the CSV file\n",
    "data = pd.read_csv(\"./data/data.csv\")\n",
    "\n",
    "# Group the data by customer ID\n",
    "grouped_data = data.groupby('CustomerId')"
   ]
  },
  {
   "cell_type": "code",
   "execution_count": 3,
   "metadata": {},
   "outputs": [
    {
     "name": "stdout",
     "output_type": "stream",
     "text": [
      "                 Total Transaction Amount  Average Transaction Amount  \\\n",
      "CustomerId                                                              \n",
      "CustomerId_1                     -10000.0               -10000.000000   \n",
      "CustomerId_10                    -10000.0               -10000.000000   \n",
      "CustomerId_1001                   20000.0                 4000.000000   \n",
      "CustomerId_1002                    4225.0                  384.090909   \n",
      "CustomerId_1003                   20000.0                 3333.333333   \n",
      "...                                   ...                         ...   \n",
      "CustomerId_992                    20000.0                 3333.333333   \n",
      "CustomerId_993                    20000.0                 4000.000000   \n",
      "CustomerId_994                   543873.0                 5384.881188   \n",
      "CustomerId_996                   139000.0                 8176.470588   \n",
      "CustomerId_998                   100000.0                 4545.454545   \n",
      "\n",
      "                 Transaction Count  Standard Deviation of Transaction Amounts  \n",
      "CustomerId                                                                     \n",
      "CustomerId_1                     1                                        NaN  \n",
      "CustomerId_10                    1                                        NaN  \n",
      "CustomerId_1001                  5                                6558.963333  \n",
      "CustomerId_1002                 11                                 560.498966  \n",
      "CustomerId_1003                  6                                6030.478146  \n",
      "...                            ...                                        ...  \n",
      "CustomerId_992                   6                                6088.240030  \n",
      "CustomerId_993                   5                                6745.368782  \n",
      "CustomerId_994                 101                               14800.656784  \n",
      "CustomerId_996                  17                                4433.329648  \n",
      "CustomerId_998                  22                                6775.145563  \n",
      "\n",
      "[3742 rows x 4 columns]\n"
     ]
    }
   ],
   "source": [
    "# Calculate the aggregate features\n",
    "aggregate_features = pd.DataFrame()\n",
    "aggregate_features['Total Transaction Amount'] = grouped_data['Amount'].sum()\n",
    "aggregate_features['Average Transaction Amount'] = grouped_data['Amount'].mean()\n",
    "aggregate_features['Transaction Count'] = grouped_data['Amount'].count()\n",
    "aggregate_features['Standard Deviation of Transaction Amounts'] = grouped_data['Amount'].std()\n",
    "\n",
    "# Display the aggregate features\n",
    "print(aggregate_features)"
   ]
  }
 ],
 "metadata": {
  "kernelspec": {
   "display_name": "base",
   "language": "python",
   "name": "python3"
  },
  "language_info": {
   "codemirror_mode": {
    "name": "ipython",
    "version": 3
   },
   "file_extension": ".py",
   "mimetype": "text/x-python",
   "name": "python",
   "nbconvert_exporter": "python",
   "pygments_lexer": "ipython3",
   "version": "3.11.7"
  }
 },
 "nbformat": 4,
 "nbformat_minor": 2
}
